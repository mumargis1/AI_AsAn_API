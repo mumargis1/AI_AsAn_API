{
 "cells": [
  {
   "cell_type": "code",
   "execution_count": 2,
   "metadata": {},
   "outputs": [],
   "source": [
    "import requests"
   ]
  },
  {
   "cell_type": "code",
   "execution_count": 10,
   "metadata": {},
   "outputs": [
    {
     "name": "stdout",
     "output_type": "stream",
     "text": [
      "{'uuid': '627fc26f-99dd-11ed-8a90-68ecc57605b0', 'query': 'This is my new query.', 'label': 'ham', 'confidence': 0.9490046501159668, 'model_version': 'v1'}\n"
     ]
    }
   ],
   "source": [
    "endpoint = 'https://5ef6-180-178-189-107.eu.ngrok.io/'\n",
    "r = requests.post(endpoint, json={\"q\": \"This is my new query.\"})\n",
    "print(r.json())"
   ]
  },
  {
   "cell_type": "code",
   "execution_count": 5,
   "metadata": {},
   "outputs": [
    {
     "name": "stdout",
     "output_type": "stream",
     "text": [
      "b'uuid, label, confidence, query, version'\n"
     ]
    }
   ],
   "source": [
    "endpoint = 'https://5ef6-180-178-189-107.eu.ngrok.io/datasets'\n",
    "s = requests.Session()\n",
    "r = s.get(endpoint, stream=True )\n",
    "for line in r.iter_lines():\n",
    "    if line:\n",
    "        print(line)"
   ]
  },
  {
   "cell_type": "code",
   "execution_count": null,
   "metadata": {},
   "outputs": [],
   "source": []
  }
 ],
 "metadata": {
  "kernelspec": {
   "display_name": "venv",
   "language": "python",
   "name": "python3"
  },
  "language_info": {
   "codemirror_mode": {
    "name": "ipython",
    "version": 3
   },
   "file_extension": ".py",
   "mimetype": "text/x-python",
   "name": "python",
   "nbconvert_exporter": "python",
   "pygments_lexer": "ipython3",
   "version": "3.10.2"
  },
  "orig_nbformat": 4,
  "vscode": {
   "interpreter": {
    "hash": "dc555015f5d2d4880796556a9bf032d366fc298eeb2ea7666dfc142491eafd8e"
   }
  }
 },
 "nbformat": 4,
 "nbformat_minor": 2
}
